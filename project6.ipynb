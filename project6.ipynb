{
  "nbformat": 4,
  "nbformat_minor": 0,
  "metadata": {
    "colab": {
      "provenance": [],
      "authorship_tag": "ABX9TyM5o0EoW2IZu3P+jOfDXdWv",
      "include_colab_link": true
    },
    "kernelspec": {
      "name": "python3",
      "display_name": "Python 3"
    },
    "language_info": {
      "name": "python"
    }
  },
  "cells": [
    {
      "cell_type": "markdown",
      "metadata": {
        "id": "view-in-github",
        "colab_type": "text"
      },
      "source": [
        "<a href=\"https://colab.research.google.com/github/sadafcode/project6/blob/main/project6.ipynb\" target=\"_parent\"><img src=\"https://colab.research.google.com/assets/colab-badge.svg\" alt=\"Open In Colab\"/></a>"
      ]
    },
    {
      "cell_type": "code",
      "execution_count": 16,
      "metadata": {
        "colab": {
          "base_uri": "https://localhost:8080/"
        },
        "id": "8bxDDS5L7xyJ",
        "outputId": "db6311cf-d630-4d05-99b8-5af68ac18d2d"
      },
      "outputs": [
        {
          "output_type": "stream",
          "name": "stdout",
          "text": [
            "Timer Completed!\n"
          ]
        }
      ],
      "source": [
        "import time\n",
        "from IPython.display import clear_output\n",
        "\n",
        "def countdown(t):\n",
        "  while t:\n",
        "    min , secs = divmod(t,60)\n",
        "    timer = \"{:02d}:{:02d}\".format(min,secs)\n",
        "    clear_output(wait = True)\n",
        "    print(timer)\n",
        "    time.sleep(1)\n",
        "    t -= 1\n",
        "  clear_output(wait=True)\n",
        "  print(\"Timer Completed!\")\n",
        "\n",
        "t = int(input(\"enter time in seconds: \"))\n",
        "\n",
        "countdown(t)\n"
      ]
    }
  ]
}